{
 "cells": [
  {
   "cell_type": "code",
   "execution_count": 1,
   "metadata": {},
   "outputs": [
    {
     "name": "stdout",
     "output_type": "stream",
     "text": [
      "Name: chromadb\n",
      "Version: 0.6.3\n",
      "Summary: Chroma.\n",
      "Home-page: \n",
      "Author: \n",
      "Author-email: Jeff Huber <jeff@trychroma.com>, Anton Troynikov <anton@trychroma.com>\n",
      "License: \n",
      "Location: D:\\doc-qa-app\\new_env\\Lib\\site-packages\n",
      "Requires: bcrypt, build, chroma-hnswlib, fastapi, grpcio, httpx, importlib-resources, kubernetes, mmh3, numpy, onnxruntime, opentelemetry-api, opentelemetry-exporter-otlp-proto-grpc, opentelemetry-instrumentation-fastapi, opentelemetry-sdk, orjson, overrides, posthog, pydantic, pypika, PyYAML, rich, tenacity, tokenizers, tqdm, typer, typing_extensions, uvicorn\n",
      "Required-by: \n"
     ]
    }
   ],
   "source": [
    "!pip show chromadb"
   ]
  },
  {
   "cell_type": "code",
   "execution_count": 2,
   "metadata": {},
   "outputs": [],
   "source": [
    "import os\n",
    "os.environ[\"AI21_API_KEY\"] = \"kV9b894VQ7EVSAj1CYS76V0yEZ1dmxjY\""
   ]
  },
  {
   "cell_type": "code",
   "execution_count": 3,
   "metadata": {},
   "outputs": [],
   "source": [
    "from langchain_ai21 import ChatAI21\n",
    "from langchain_ai21 import AI21Embeddings\n",
    "from langchain.vectorstores import Chroma\n",
    "from langchain.document_loaders import DirectoryLoader, TextLoader"
   ]
  },
  {
   "cell_type": "code",
   "execution_count": 4,
   "metadata": {},
   "outputs": [],
   "source": [
    "from langchain.document_loaders import PyPDFLoader"
   ]
  },
  {
   "cell_type": "code",
   "execution_count": 5,
   "metadata": {},
   "outputs": [
    {
     "ename": "ImportError",
     "evalue": "pypdf package not found, please install it with `pip install pypdf`",
     "output_type": "error",
     "traceback": [
      "\u001b[1;31m---------------------------------------------------------------------------\u001b[0m",
      "\u001b[1;31mModuleNotFoundError\u001b[0m                       Traceback (most recent call last)",
      "File \u001b[1;32md:\\doc-qa-app\\new_env\\Lib\\site-packages\\langchain_community\\document_loaders\\pdf.py:177\u001b[0m, in \u001b[0;36mPyPDFLoader.__init__\u001b[1;34m(self, file_path, password, headers, extract_images)\u001b[0m\n\u001b[0;32m    176\u001b[0m \u001b[38;5;28;01mtry\u001b[39;00m:\n\u001b[1;32m--> 177\u001b[0m     \u001b[38;5;28;01mimport\u001b[39;00m\u001b[38;5;250m \u001b[39m\u001b[38;5;21;01mpypdf\u001b[39;00m  \u001b[38;5;66;03m# noqa:F401\u001b[39;00m\n\u001b[0;32m    178\u001b[0m \u001b[38;5;28;01mexcept\u001b[39;00m \u001b[38;5;167;01mImportError\u001b[39;00m:\n",
      "\u001b[1;31mModuleNotFoundError\u001b[0m: No module named 'pypdf'",
      "\nDuring handling of the above exception, another exception occurred:\n",
      "\u001b[1;31mImportError\u001b[0m                               Traceback (most recent call last)",
      "Cell \u001b[1;32mIn[5], line 3\u001b[0m\n\u001b[0;32m      1\u001b[0m \u001b[38;5;66;03m# Step 2: Load the PDF document\u001b[39;00m\n\u001b[0;32m      2\u001b[0m pdf_path \u001b[38;5;241m=\u001b[39m \u001b[38;5;124m\"\u001b[39m\u001b[38;5;124m54.SFSP - Policy Wording.pdf\u001b[39m\u001b[38;5;124m\"\u001b[39m\n\u001b[1;32m----> 3\u001b[0m loader \u001b[38;5;241m=\u001b[39m \u001b[43mPyPDFLoader\u001b[49m\u001b[43m(\u001b[49m\u001b[43mpdf_path\u001b[49m\u001b[43m)\u001b[49m\n\u001b[0;32m      4\u001b[0m documents \u001b[38;5;241m=\u001b[39m loader\u001b[38;5;241m.\u001b[39mload()\n",
      "File \u001b[1;32md:\\doc-qa-app\\new_env\\Lib\\site-packages\\langchain_community\\document_loaders\\pdf.py:179\u001b[0m, in \u001b[0;36mPyPDFLoader.__init__\u001b[1;34m(self, file_path, password, headers, extract_images)\u001b[0m\n\u001b[0;32m    177\u001b[0m     \u001b[38;5;28;01mimport\u001b[39;00m\u001b[38;5;250m \u001b[39m\u001b[38;5;21;01mpypdf\u001b[39;00m  \u001b[38;5;66;03m# noqa:F401\u001b[39;00m\n\u001b[0;32m    178\u001b[0m \u001b[38;5;28;01mexcept\u001b[39;00m \u001b[38;5;167;01mImportError\u001b[39;00m:\n\u001b[1;32m--> 179\u001b[0m     \u001b[38;5;28;01mraise\u001b[39;00m \u001b[38;5;167;01mImportError\u001b[39;00m(\n\u001b[0;32m    180\u001b[0m         \u001b[38;5;124m\"\u001b[39m\u001b[38;5;124mpypdf package not found, please install it with \u001b[39m\u001b[38;5;124m\"\u001b[39m \u001b[38;5;124m\"\u001b[39m\u001b[38;5;124m`pip install pypdf`\u001b[39m\u001b[38;5;124m\"\u001b[39m\n\u001b[0;32m    181\u001b[0m     )\n\u001b[0;32m    182\u001b[0m \u001b[38;5;28msuper\u001b[39m()\u001b[38;5;241m.\u001b[39m\u001b[38;5;21m__init__\u001b[39m(file_path, headers\u001b[38;5;241m=\u001b[39mheaders)\n\u001b[0;32m    183\u001b[0m \u001b[38;5;28mself\u001b[39m\u001b[38;5;241m.\u001b[39mparser \u001b[38;5;241m=\u001b[39m PyPDFParser(password\u001b[38;5;241m=\u001b[39mpassword, extract_images\u001b[38;5;241m=\u001b[39mextract_images)\n",
      "\u001b[1;31mImportError\u001b[0m: pypdf package not found, please install it with `pip install pypdf`"
     ]
    }
   ],
   "source": [
    "# Step 2: Load the PDF document\n",
    "pdf_path = \"54.SFSP - Policy Wording.pdf\"\n",
    "loader = PyPDFLoader(pdf_path)\n",
    "documents = loader.load()"
   ]
  },
  {
   "cell_type": "code",
   "execution_count": 5,
   "metadata": {},
   "outputs": [
    {
     "data": {
      "text/plain": [
       "Document(metadata={'source': 'data/54.SFSP - Policy Wording.pdf', 'page': 0}, page_content=' \\n                      Liberty Videocon General Insurance  Company Limited – Policy W ording - SFSP                        1  \\nSTANDARD FIRE AND SPECIAL PERILS POLICY  \\n(MATERIAL DAMAGE)  \\n \\n \\nIN CONSIDERATION OF the Insured named in the Schedule hereto having paid to the \\nLiberty Videocon  General Insurance Company Limited  (hereinafter called the \\nCompany) the full premium mentioned in t he said schedule, THE COMPANY AGREES, \\n(Subject to the Conditions and Exclusions contained herein or endorsed or otherwise \\nexpressed hereon) that if after payment of the premium the Property insured described in \\nthe said Schedule or any part of such Propert y be destroyed or damaged by any of the perils \\nspecified hereunder during the period of insurance named in the said schedule or of any \\nsubsequent period in respect of which the Insured shall have paid and the Company shall \\nhave accepted the premium require d for the renewal of the policy, the Company shall pay to \\nthe Insured the value of the Property at the time of the happening of its destruction or the \\namount of such damage or at its option reinstate or replace such property or any part \\nthereof:  \\n \\nI     Fire \\n \\n        Excluding destruction or damage caused to the property insured by  \\n \\n         a)      i)  its own fermentation, natural heating or spontaneous combustion.  \\n \\n      ii) its undergoing any heating or drying process.  \\n \\n   b)     burning of property ins ured by order of any Public Authority.  \\n \\nII    Lightning  \\n \\nIII  Explosion/Implosion  \\n \\n        Excluding loss, destruction of or damage  \\n \\na) to boilers (other than domestic boilers), economiz ers or other vessels, machinery \\nor apparatus( in which steam is generate d) or their contents resulting from their \\nown explosion/implosion,  \\n \\n        b)   caused by centrifugal forces.  \\n \\nIV  Aircraft Damage  \\n \\n        Loss, Destruction or damage caused by Aircraft, other aerial or space devices and \\narticles dropped therefrom exclud ing those caused by pressure waves.  \\n \\n \\n \\n ')"
      ]
     },
     "execution_count": 5,
     "metadata": {},
     "output_type": "execute_result"
    }
   ],
   "source": [
    "documents[0]"
   ]
  },
  {
   "cell_type": "code",
   "execution_count": 6,
   "metadata": {},
   "outputs": [],
   "source": [
    "from langchain.text_splitter import RecursiveCharacterTextSplitter\n",
    "\n",
    "# text_splitter = RecursiveCharacterTextSplitter(chunk_size = 2000, chunk_overlap = 100)\n",
    "# text = text_splitter.split_documents(documents)\n",
    "\n",
    "# Split the documents into chunks that are under 2000 characters\n",
    "text_splitter = RecursiveCharacterTextSplitter(chunk_size=1900, chunk_overlap=100)\n",
    "split_documents = text_splitter.split_documents(documents)"
   ]
  },
  {
   "cell_type": "code",
   "execution_count": 7,
   "metadata": {},
   "outputs": [
    {
     "data": {
      "text/plain": [
       "'thereof to the Company and shall within 15 days after the loss or damage, or \\nsuch further time as the Company may in writing allow in that behalf, deliver to \\nthe Company  \\n  \\na)  A claim in writing for the loss or d amage containing as particular an account as \\nmay be reasonably practicable of all the several articles or items or property \\ndamaged or destroyed, and of the amount of the loss or damage thereto \\nrespectively, having regard to their value at the time of the loss or damage not \\nincluding profit of any kind.  \\n \\n   b)  Particulars of all other insurances, if any  \\n \\nThe Insured shall also at all times at his own expense produce, procure and give to \\nthe Company all such further particulars, plans, specification books , vouchers, \\ninvoices, duplicates or copies thereof, documents, investigation reports \\n(internal/external), proofs and information with respect to the claim and the origin \\nand cause of the loss and the circumstances under which the loss or damage \\noccurred, a nd any matter touching the liability or the amount of the liability of the \\nCompany as may be reasonably required by or on behalf of the Company together'"
      ]
     },
     "execution_count": 7,
     "metadata": {},
     "output_type": "execute_result"
    }
   ],
   "source": [
    "split_documents[10].page_content"
   ]
  },
  {
   "cell_type": "code",
   "execution_count": 8,
   "metadata": {},
   "outputs": [
    {
     "data": {
      "text/plain": [
       "17"
      ]
     },
     "execution_count": 8,
     "metadata": {},
     "output_type": "execute_result"
    }
   ],
   "source": [
    "len(split_documents)"
   ]
  },
  {
   "cell_type": "code",
   "execution_count": 9,
   "metadata": {},
   "outputs": [],
   "source": [
    "embedding = AI21Embeddings()"
   ]
  },
  {
   "cell_type": "code",
   "execution_count": 10,
   "metadata": {},
   "outputs": [
    {
     "name": "stdout",
     "output_type": "stream",
     "text": [
      "Processed batch 1 of 1\n",
      "All documents processed and saved.\n"
     ]
    },
    {
     "name": "stderr",
     "output_type": "stream",
     "text": [
      "c:\\Users\\Harisankar\\anaconda3\\envs\\genaienv\\lib\\site-packages\\langchain_core\\_api\\deprecation.py:139: LangChainDeprecationWarning: Since Chroma 0.4.x the manual persistence method is no longer supported as docs are automatically persisted.\n",
      "  warn_deprecated(\n"
     ]
    }
   ],
   "source": [
    "\n",
    "\n",
    "# Set up AI21 embeddings\n",
    "embedding = AI21Embeddings()\n",
    "\n",
    "# Directory to persist the Chroma vector store\n",
    "persist_directory = 'db'\n",
    "\n",
    "# Batch processing parameters\n",
    "batch_size = 50  # Adjust based on your system's capabilities\n",
    "\n",
    "# Process and store documents in batches\n",
    "for i in range(0, len(split_documents), batch_size):\n",
    "    batch = split_documents[i:i+batch_size]\n",
    "    \n",
    "    # Ensure each chunk is under 2000 characters\n",
    "    valid_batch = [doc for doc in batch if len(doc.page_content) <= 2000]\n",
    "    \n",
    "    if i == 0:\n",
    "        vectordb = Chroma.from_documents(documents=valid_batch, embedding=embedding, persist_directory=persist_directory)\n",
    "    else:\n",
    "        vectordb.add_documents(documents=valid_batch)\n",
    "    \n",
    "    print(f\"Processed batch {i//batch_size + 1} of {len(split_documents)//batch_size + 1}\")\n",
    "\n",
    "# Persist the vector store to disk\n",
    "vectordb.persist()\n",
    "print(\"All documents processed and saved.\")\n",
    "\n"
   ]
  },
  {
   "cell_type": "code",
   "execution_count": 6,
   "metadata": {},
   "outputs": [],
   "source": [
    "from langchain.prompts import PromptTemplate\n",
    "from ai21 import AI21Client\n",
    "from ai21.models.chat import ChatMessage"
   ]
  },
  {
   "cell_type": "code",
   "execution_count": 7,
   "metadata": {},
   "outputs": [],
   "source": [
    "client = AI21Client(api_key=\"kV9b894VQ7EVSAj1CYS76V0yEZ1dmxjY\")\n"
   ]
  },
  {
   "cell_type": "code",
   "execution_count": 8,
   "metadata": {},
   "outputs": [],
   "source": [
    "# Define the improved prompt template\n",
    "PROMPT_TEMPLATE = \"\"\"\n",
    "You are an AI assistant specialized in explaining insurance policies in simple terms. Your task is to answer the user's question based on the following context from an insurance policy:\n",
    "\n",
    "{context}\n",
    "\n",
    "Question: {question}\n",
    "\n",
    "Please provide a clear, concise, and easy-to-understand answer. Follow these guidelines:\n",
    "1. Identify the key conditions or points relevant to the question.\n",
    "2. Explain each point briefly, avoiding insurance jargon where possible.\n",
    "3. If a term is complex, provide a simple explanation in parentheses.\n",
    "4. Use bullet points for clarity.\n",
    "5. If the context doesn't fully answer the question, mention this and provide the most relevant information available.\n",
    "6. Limit your response to the most important points to ensure clarity and brevity.\n",
    "\n",
    "Remember, your goal is to help a non-expert understand the key points of the policy.\n",
    "\"\"\""
   ]
  },
  {
   "cell_type": "code",
   "execution_count": 9,
   "metadata": {},
   "outputs": [],
   "source": [
    "prompt = PromptTemplate(template=PROMPT_TEMPLATE, input_variables=[\"context\", \"question\"])\n"
   ]
  },
  {
   "cell_type": "code",
   "execution_count": null,
   "metadata": {},
   "outputs": [],
   "source": []
  },
  {
   "cell_type": "code",
   "execution_count": 77,
   "metadata": {},
   "outputs": [],
   "source": [
    "def get_relevant_context(question, k=5):\n",
    "    print(f\"Retrieving context for question: {question}\")\n",
    "    results = vectordb.similarity_search(question, k=k)\n",
    "    context = \"\\n\".join([doc.page_content for doc in results])\n",
    "    print(f\"Retrieved context (first 200 chars): {context[:200]}...\")\n",
    "    return context"
   ]
  },
  {
   "cell_type": "code",
   "execution_count": 75,
   "metadata": {},
   "outputs": [],
   "source": [
    "# def get_relevant_context(question, k=5, similarity_threshold=0.3):\n",
    "#     print(f\"Retrieving context for question: {question}\")\n",
    "#     results = vectordb.similarity_search_with_score(question, k=k)\n",
    "    \n",
    "#     relevant_docs = [\n",
    "#         (doc.page_content, score) for doc, score in results \n",
    "#         if score >= similarity_threshold\n",
    "#     ]\n",
    "    \n",
    "#     if not relevant_docs:\n",
    "#         print(\"No relevant documents found.\")\n",
    "#         return \"No relevant documents found\"\n",
    "    \n",
    "#     context = \"\\n\".join([doc for doc, _ in relevant_docs])\n",
    "#     print(f\"Retrieved context (first 200 chars): {context[:200]}...\")\n",
    "#     return context"
   ]
  },
  {
   "cell_type": "code",
   "execution_count": 78,
   "metadata": {},
   "outputs": [
    {
     "name": "stdout",
     "output_type": "stream",
     "text": [
      "Retrieving context for question: Fire Insurance\n",
      "Retrieved context (first 200 chars): Liberty Videocon General Insurance  Company Limited – Policy W ording - SFSP                        3 given as an “add on cover” the words “excluding those resulting from earthquake , \n",
      "volcanic erupti...\n"
     ]
    },
    {
     "data": {
      "text/plain": [
       "'Liberty Videocon General Insurance  Company Limited – Policy W ording - SFSP                        3 given as an “add on cover” the words “excluding those resulting from earthquake , \\nvolcanic eruption or other convulsions of nature” shall stand deleted. ) \\n  \\nVII   Impact Damage  \\n \\n Loss of or visible physical damage or destruction  caused to the property insured  due \\nto impact by any Rail/ Road vehicle or animal by direct contact not belonging    to or \\nowned by  \\n   \\na) the Insured or any occupier of the premises or  \\n  \\nb) their employees while act ing in the course of their employment.  \\n \\nVIII  Subsidence and Landslide including Rock slide  \\n \\nLoss, destruction or damage directly caused by Subsidence of part of the site on  \\nwhich the property stands or Land slide/Rock slide excluding:  \\n  \\n         a)    the normal cracking, settlement or bedding down of new structures  \\n \\n         b)    the settlement or movement of made up ground  \\n \\n         c)    coastal or river erosion  \\n \\n         d)    defective design or workmanship or use of defective materials  \\n \\n         e)    demolition, construction, structural alterations or repair of any property or  \\n                groundworks or excavations.   \\n  \\nIX    Bursting and/or overflowing of Water Tanks, Apparatus and Pipes  \\n \\nX     Missile Testing operations   \\n \\nXI    Leakage fro m Automatic Sprinkler Installations  \\n \\n         Excluding loss, destruction or damage caused by  \\n \\na) Repairs or alterations to the buildings or premises  \\n  \\nb) Repairs, Removal or Extensio n of the Sprinkler Installation  \\n \\nc) Defects in construction known to the Insured.   \\n \\nXII   Bush Fire  \\n \\n         Excluding loss, destruction or damage caused by Forest Fire.\\nLiberty Videocon General Insurance  Company Limited – Policy W ording - SFSP                        3 given as an “add on cover” the words “excluding those resulting from earthquake , \\nvolcanic eruption or other convulsions of nature” shall stand deleted. ) \\n  \\nVII   Impact Damage  \\n \\n Loss of or visible physical damage or destruction  caused to the property insured  due \\nto impact by any Rail/ Road vehicle or animal by direct contact not belonging    to or \\nowned by  \\n   \\na) the Insured or any occupier of the premises or  \\n  \\nb) their employees while act ing in the course of their employment.  \\n \\nVIII  Subsidence and Landslide including Rock slide  \\n \\nLoss, destruction or damage directly caused by Subsidence of part of the site on  \\nwhich the property stands or Land slide/Rock slide excluding:  \\n  \\n         a)    the normal cracking, settlement or bedding down of new structures  \\n \\n         b)    the settlement or movement of made up ground  \\n \\n         c)    coastal or river erosion  \\n \\n         d)    defective design or workmanship or use of defective materials  \\n \\n         e)    demolition, construction, structural alterations or repair of any property or  \\n                groundworks or excavations.   \\n  \\nIX    Bursting and/or overflowing of Water Tanks, Apparatus and Pipes  \\n \\nX     Missile Testing operations   \\n \\nXI    Leakage fro m Automatic Sprinkler Installations  \\n \\n         Excluding loss, destruction or damage caused by  \\n \\na) Repairs or alterations to the buildings or premises  \\n  \\nb) Repairs, Removal or Extensio n of the Sprinkler Installation  \\n \\nc) Defects in construction known to the Insured.   \\n \\nXII   Bush Fire  \\n \\n         Excluding loss, destruction or damage caused by Forest Fire.\\nLiberty Videocon General Insurance  Company Limited – Policy W ording - SFSP                        3 given as an “add on cover” the words “excluding those resulting from earthquake , \\nvolcanic eruption or other convulsions of nature” shall stand deleted. ) \\n  \\nVII   Impact Damage  \\n \\n Loss of or visible physical damage or destruction  caused to the property insured  due \\nto impact by any Rail/ Road vehicle or animal by direct contact not belonging    to or \\nowned by  \\n   \\na) the Insured or any occupier of the premises or  \\n  \\nb) their employees while act ing in the course of their employment.  \\n \\nVIII  Subsidence and Landslide including Rock slide  \\n \\nLoss, destruction or damage directly caused by Subsidence of part of the site on  \\nwhich the property stands or Land slide/Rock slide excluding:  \\n  \\n         a)    the normal cracking, settlement or bedding down of new structures  \\n \\n         b)    the settlement or movement of made up ground  \\n \\n         c)    coastal or river erosion  \\n \\n         d)    defective design or workmanship or use of defective materials  \\n \\n         e)    demolition, construction, structural alterations or repair of any property or  \\n                groundworks or excavations.   \\n  \\nIX    Bursting and/or overflowing of Water Tanks, Apparatus and Pipes  \\n \\nX     Missile Testing operations   \\n \\nXI    Leakage fro m Automatic Sprinkler Installations  \\n \\n         Excluding loss, destruction or damage caused by  \\n \\na) Repairs or alterations to the buildings or premises  \\n  \\nb) Repairs, Removal or Extensio n of the Sprinkler Installation  \\n \\nc) Defects in construction known to the Insured.   \\n \\nXII   Bush Fire  \\n \\n         Excluding loss, destruction or damage caused by Forest Fire.\\nLiberty Videocon General Insurance  Company Limited – Policy W ording - SFSP                        3 given as an “add on cover” the words “excluding those resulting from earthquake , \\nvolcanic eruption or other convulsions of nature” shall stand deleted. ) \\n  \\nVII   Impact Damage  \\n \\n Loss of or visible physical damage or destruction  caused to the property insured  due \\nto impact by any Rail/ Road vehicle or animal by direct contact not belonging    to or \\nowned by  \\n   \\na) the Insured or any occupier of the premises or  \\n  \\nb) their employees while act ing in the course of their employment.  \\n \\nVIII  Subsidence and Landslide including Rock slide  \\n \\nLoss, destruction or damage directly caused by Subsidence of part of the site on  \\nwhich the property stands or Land slide/Rock slide excluding:  \\n  \\n         a)    the normal cracking, settlement or bedding down of new structures  \\n \\n         b)    the settlement or movement of made up ground  \\n \\n         c)    coastal or river erosion  \\n \\n         d)    defective design or workmanship or use of defective materials  \\n \\n         e)    demolition, construction, structural alterations or repair of any property or  \\n                groundworks or excavations.   \\n  \\nIX    Bursting and/or overflowing of Water Tanks, Apparatus and Pipes  \\n \\nX     Missile Testing operations   \\n \\nXI    Leakage fro m Automatic Sprinkler Installations  \\n \\n         Excluding loss, destruction or damage caused by  \\n \\na) Repairs or alterations to the buildings or premises  \\n  \\nb) Repairs, Removal or Extensio n of the Sprinkler Installation  \\n \\nc) Defects in construction known to the Insured.   \\n \\nXII   Bush Fire  \\n \\n         Excluding loss, destruction or damage caused by Forest Fire.\\nLiberty Videocon General Insurance  Company Limited – Policy W ording - SFSP                        1  \\nSTANDARD FIRE AND SPECIAL PERILS POLICY  \\n(MATERIAL DAMAGE)  \\n \\n \\nIN CONSIDERATION OF the Insured named in the Schedule hereto having paid to the \\nLiberty Videocon  General Insurance Company Limited  (hereinafter called the \\nCompany) the full premium mentioned in t he said schedule, THE COMPANY AGREES, \\n(Subject to the Conditions and Exclusions contained herein or endorsed or otherwise \\nexpressed hereon) that if after payment of the premium the Property insured described in \\nthe said Schedule or any part of such Propert y be destroyed or damaged by any of the perils \\nspecified hereunder during the period of insurance named in the said schedule or of any \\nsubsequent period in respect of which the Insured shall have paid and the Company shall \\nhave accepted the premium require d for the renewal of the policy, the Company shall pay to \\nthe Insured the value of the Property at the time of the happening of its destruction or the \\namount of such damage or at its option reinstate or replace such property or any part \\nthereof:  \\n \\nI     Fire \\n \\n        Excluding destruction or damage caused to the property insured by  \\n \\n         a)      i)  its own fermentation, natural heating or spontaneous combustion.  \\n \\n      ii) its undergoing any heating or drying process.  \\n \\n   b)     burning of property ins ured by order of any Public Authority.  \\n \\nII    Lightning  \\n \\nIII  Explosion/Implosion  \\n \\n        Excluding loss, destruction of or damage  \\n \\na) to boilers (other than domestic boilers), economiz ers or other vessels, machinery \\nor apparatus( in which steam is generate d) or their contents resulting from their \\nown explosion/implosion,  \\n \\n        b)   caused by centrifugal forces.  \\n \\nIV  Aircraft Damage'"
      ]
     },
     "execution_count": 78,
     "metadata": {},
     "output_type": "execute_result"
    }
   ],
   "source": [
    "get_relevant_context(\"Fire Insurance\")"
   ]
  },
  {
   "cell_type": "code",
   "execution_count": 79,
   "metadata": {},
   "outputs": [],
   "source": [
    "import requests\n",
    "import time"
   ]
  },
  {
   "cell_type": "code",
   "execution_count": 80,
   "metadata": {},
   "outputs": [],
   "source": [
    "def answer_question(question):\n",
    "    try:\n",
    "        start_time = time.time()\n",
    "        context = get_relevant_context(question)\n",
    "        full_prompt = prompt.format(context=context, question=question)\n",
    "        \n",
    "        print(\"Sending request to AI21 API...\")\n",
    "        messages = [\n",
    "            ChatMessage(role=\"system\", content=\"You are an AI assistant specialized in insurance policies. Answer questions as best as you can based only on the provided context.\"),\n",
    "            ChatMessage(role=\"user\", content=full_prompt)\n",
    "        ]\n",
    "        \n",
    "        response = client.chat.completions.create(\n",
    "            model=\"jamba-1.5-mini\",\n",
    "            messages=messages,\n",
    "            max_tokens=500,\n",
    "            timeout=30  # Set a 30-second timeout\n",
    "        )\n",
    "        \n",
    "        end_time = time.time()\n",
    "        print(f\"Request completed in {end_time - start_time:.2f} seconds\")\n",
    "        \n",
    "        return response.choices[0].message.content\n",
    "    except requests.exceptions.Timeout:\n",
    "        return \"The request to AI21 timed out. Please try again later.\"\n",
    "    except Exception as e:\n",
    "        return f\"An error occurred: {str(e)}\""
   ]
  },
  {
   "cell_type": "code",
   "execution_count": 81,
   "metadata": {},
   "outputs": [
    {
     "name": "stdout",
     "output_type": "stream",
     "text": [
      "Retrieving context for question: What are the different Fire insurance conditions in the policy wordings? Make it into points\n",
      "Retrieved context (first 200 chars): 5.  Loss, destruction or damage to bullion or unset precious stones, any curios or   \n",
      "          works of art for an amount exceeding Rs. 10000/ -, goods held  in trust or on  \n",
      "          commission, ma...\n",
      "Sending request to AI21 API...\n",
      "Request completed in 4.96 seconds\n",
      "Here are the key conditions related to Fire insurance in the policy wordings:\n",
      "\n",
      "* **Exclusions for Fire Damage:**\n",
      "\n",
      "\n",
      "  + Fire caused by the property's own fermentation, natural heating, or spontaneous combustion.\n",
      "  + Fire resulting from any heating or drying process.\n",
      "  + Fire caused by burning of insured property by order of any Public Authority.\n",
      "\t\n",
      "* **Exclusions for Other Perils:**\n",
      "\n",
      "\n",
      "  + Damage to boilers, economizers, or other vessels/machinery/apparatus (in which steam is generated) or their contents due to their own explosion/implosion.\n",
      "  + Damage caused by centrifugal forces.\n",
      "  + Damage to any electrical machine, apparatus, fixture, or fitting due to over-running, excessive pressure, short-circuiting, arcing, self-heating, or leakage of electricity (including from lightning).\n",
      "  + Damage to stocks in Cold Storage premises caused by a change in temperature.\n",
      "  + Loss, destruction, or damage to bullion, unset precious stones, curios, works of art, manuscripts, plans, drawings, securities, obligations, or documents exceeding Rs. 10,000 in value, goods held in trust or on commission, cheques, books of accounts, or other business books, computer systems records, explosives, unless otherwise stated in the policy.\n",
      "\t\n",
      "* **Coverage Conditions:**\n",
      "\n",
      "\n",
      "  + The policy covers the property insured against the specified perils during the policy period.\n",
      "  + The company agrees to pay the insured the value of the property at the time of destruction or damage, or at its option, reinstate or replace such property or any part thereof.\n",
      "  + The policy covers fire, lightning, and explosion/implosion, with certain exclusions mentioned.\n"
     ]
    }
   ],
   "source": [
    "# Example usage\n",
    "print(answer_question(\"What are the different Fire insurance conditions in the policy wordings? Make it into points\"))"
   ]
  },
  {
   "cell_type": "code",
   "execution_count": 82,
   "metadata": {},
   "outputs": [],
   "source": [
    "from datetime import datetime"
   ]
  },
  {
   "cell_type": "code",
   "execution_count": 84,
   "metadata": {},
   "outputs": [
    {
     "data": {
      "text/plain": [
       "'08_23_2024_15_53_15'"
      ]
     },
     "execution_count": 84,
     "metadata": {},
     "output_type": "execute_result"
    }
   ],
   "source": [
    "datetime.now().strftime('%m_%d_%Y_%H_%M_%S')"
   ]
  },
  {
   "cell_type": "code",
   "execution_count": 10,
   "metadata": {},
   "outputs": [],
   "source": [
    "from ai21 import AI21Client\n",
    "from ai21.models.chat import ChatMessage\n",
    "import time\n",
    "import requests\n",
    "from dotenv import load_dotenv\n",
    "import os\n"
   ]
  },
  {
   "cell_type": "code",
   "execution_count": 11,
   "metadata": {},
   "outputs": [],
   "source": [
    "\n",
    "# Load environment variables\n",
    "load_dotenv()\n",
    "\n",
    "def simple_ai21_chat(question):\n",
    "    try:\n",
    "        # Initialize AI21 client\n",
    "        api_key = os.getenv(\"AI21_API_KEY\")\n",
    "        if not api_key:\n",
    "            raise ValueError(\"AI21_API_KEY environment variable is not set.\")\n",
    "        \n",
    "        client = AI21Client(api_key=api_key)\n",
    "        \n",
    "        start_time = time.time()\n",
    "        print(\"Sending request to AI21 API...\")\n",
    "        \n",
    "        # Create messages for the chat\n",
    "        messages = [\n",
    "            ChatMessage(\n",
    "                role=\"system\", \n",
    "                content=\"You are a helpful AI assistant. Answer questions clearly and concisely.\"\n",
    "            ),\n",
    "            ChatMessage(\n",
    "                role=\"user\", \n",
    "                content=question\n",
    "            )\n",
    "        ]\n",
    "        \n",
    "        # Make the API call\n",
    "        response = client.chat.completions.create(\n",
    "            model=\"jamba-1.5-mini\",\n",
    "            messages=messages,\n",
    "            max_tokens=500,\n",
    "            temperature=0.7,\n",
    "            timeout=30\n",
    "        )\n",
    "        \n",
    "        end_time = time.time()\n",
    "        print(f\"Request completed in {end_time - start_time:.2f} seconds\")\n",
    "        \n",
    "        return response.choices[0].message.content\n",
    "        \n",
    "    except requests.exceptions.Timeout:\n",
    "        return \"The request to AI21 timed out. Please try again later.\"\n",
    "    except Exception as e:\n",
    "        return f\"An error occurred: {str(e)}\"\n"
   ]
  },
  {
   "cell_type": "code",
   "execution_count": 12,
   "metadata": {},
   "outputs": [
    {
     "name": "stdout",
     "output_type": "stream",
     "text": [
      "\n",
      "Getting response...\n",
      "Sending request to AI21 API...\n",
      "Request completed in 1.53 seconds\n",
      "\n",
      "Response: My role is to assist you by providing helpful and professional responses to your questions. Whether it's solving problems, offering explanations, or helping with tasks, I'm here to help. If you have any specific questions or need assistance with something, feel free to ask!\n",
      "\n",
      "Getting response...\n",
      "Sending request to AI21 API...\n",
      "Request completed in 2.72 seconds\n",
      "\n",
      "Response: Good sleep is crucial for overall health and well-being. It impacts physical health, mental health, and cognitive function. Here are some key benefits:\n",
      "\n",
      "1. **Physical Health**:\n",
      "\n",
      "\n",
      "  * **Immune Function**: Adequate sleep strengthens the immune system, helping the body fight off illnesses.\n",
      "  * **Heart Health**: It reduces the risk of heart disease, high blood pressure, and stroke.\n",
      "  * **Weight Management**: Good sleep helps regulate hormones that control appetite, reducing the risk of obesity.\n",
      "\t\n",
      "2. **Mental Health**:\n",
      "\n",
      "\n",
      "  * **Mood Regulation**: Sleep helps stabilize mood and emotional stability.\n",
      "  * **Stress Reduction**: It allows the brain to process emotions and stress, reducing anxiety and depression.\n",
      "\t\n",
      "3. **Cognitive Function**:\n",
      "\n",
      "\n",
      "  * **Memory Consolidation**: Sleep is essential for memory formation and learning.\n",
      "  * **Problem-Solving Skills**: Quality sleep enhances creativity and problem-solving abilities.\n",
      "  * **Decision-Making**: Adequate sleep improves decision-making skills and cognitive function.\n",
      "\n",
      "\n",
      "In summary, good sleep is essential for maintaining physical health, mental well-being, and optimal cognitive function.\n",
      "\n",
      "Getting response...\n",
      "Sending request to AI21 API...\n"
     ]
    },
    {
     "name": "stderr",
     "output_type": "stream",
     "text": [
      "[2025-01-30 19:07:56 - ai21 - ERROR] Calling POST https://api.ai21.com/studio/v1/chat/completions failed with a non-200 response code: 422\n"
     ]
    },
    {
     "name": "stdout",
     "output_type": "stream",
     "text": [
      "\n",
      "Response: An error occurred: Failed with http status code: 422 (UnprocessableEntity). Details: {\"detail\":{\"error\":[\"Value error, message content must not be an empty string\"]}}\n",
      "\n",
      "Getting response...\n",
      "Sending request to AI21 API...\n"
     ]
    },
    {
     "name": "stderr",
     "output_type": "stream",
     "text": [
      "[2025-01-30 19:08:04 - ai21 - ERROR] Calling POST https://api.ai21.com/studio/v1/chat/completions failed with a non-200 response code: 422\n"
     ]
    },
    {
     "name": "stdout",
     "output_type": "stream",
     "text": [
      "\n",
      "Response: An error occurred: Failed with http status code: 422 (UnprocessableEntity). Details: {\"detail\":{\"error\":[\"Value error, message content must not be an empty string\"]}}\n"
     ]
    }
   ],
   "source": [
    "\n",
    "# Test the function\n",
    "if __name__ == \"__main__\":\n",
    "    while True:\n",
    "        question = input(\"\\nEnter your question (or 'quit' to exit): \")\n",
    "        if question.lower() == 'quit':\n",
    "            break\n",
    "            \n",
    "        print(\"\\nGetting response...\")\n",
    "        response = simple_ai21_chat(question)\n",
    "        print(\"\\nResponse:\", response)"
   ]
  },
  {
   "cell_type": "code",
   "execution_count": null,
   "metadata": {},
   "outputs": [],
   "source": []
  }
 ],
 "metadata": {
  "kernelspec": {
   "display_name": "genaienv",
   "language": "python",
   "name": "python3"
  },
  "language_info": {
   "codemirror_mode": {
    "name": "ipython",
    "version": 3
   },
   "file_extension": ".py",
   "mimetype": "text/x-python",
   "name": "python",
   "nbconvert_exporter": "python",
   "pygments_lexer": "ipython3",
   "version": "3.12.2"
  }
 },
 "nbformat": 4,
 "nbformat_minor": 2
}
